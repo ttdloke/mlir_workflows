{
  "nbformat": 4,
  "nbformat_minor": 0,
  "metadata": {
    "colab": {
      "provenance": []
    },
    "kernelspec": {
      "name": "python3",
      "display_name": "Python 3"
    },
    "language_info": {
      "name": "python"
    }
  },
  "cells": [
    {
      "cell_type": "code",
      "source": [
        "!pip uninstall jax"
      ],
      "metadata": {
        "colab": {
          "base_uri": "https://localhost:8080/"
        },
        "id": "0IzqtWo3EIUf",
        "outputId": "4860fb3f-03de-404b-de1a-12086a1dc8ef"
      },
      "execution_count": 15,
      "outputs": [
        {
          "output_type": "stream",
          "name": "stdout",
          "text": [
            "Found existing installation: jax 0.4.26\n",
            "Uninstalling jax-0.4.26:\n",
            "  Would remove:\n",
            "    /usr/local/lib/python3.10/dist-packages/jax-0.4.26.dist-info/*\n",
            "    /usr/local/lib/python3.10/dist-packages/jax/*\n",
            "Proceed (Y/n)? Y\n",
            "  Successfully uninstalled jax-0.4.26\n"
          ]
        }
      ]
    },
    {
      "cell_type": "code",
      "source": [
        "!pip install jax"
      ],
      "metadata": {
        "colab": {
          "base_uri": "https://localhost:8080/",
          "height": 385
        },
        "id": "8qgj9yUq2few",
        "outputId": "c258faec-8eb6-452e-950c-00940b1b9361"
      },
      "execution_count": 16,
      "outputs": [
        {
          "output_type": "stream",
          "name": "stdout",
          "text": [
            "Collecting jax\n",
            "  Downloading jax-0.4.30-py3-none-any.whl (2.0 MB)\n",
            "\u001b[2K     \u001b[90m━━━━━━━━━━━━━━━━━━━━━━━━━━━━━━━━━━━━━━━━\u001b[0m \u001b[32m2.0/2.0 MB\u001b[0m \u001b[31m10.4 MB/s\u001b[0m eta \u001b[36m0:00:00\u001b[0m\n",
            "\u001b[?25hCollecting jaxlib<=0.4.30,>=0.4.27 (from jax)\n",
            "  Downloading jaxlib-0.4.30-cp310-cp310-manylinux2014_x86_64.whl (79.6 MB)\n",
            "\u001b[2K     \u001b[90m━━━━━━━━━━━━━━━━━━━━━━━━━━━━━━━━━━━━━━━━\u001b[0m \u001b[32m79.6/79.6 MB\u001b[0m \u001b[31m8.3 MB/s\u001b[0m eta \u001b[36m0:00:00\u001b[0m\n",
            "\u001b[?25hRequirement already satisfied: ml-dtypes>=0.2.0 in /usr/local/lib/python3.10/dist-packages (from jax) (0.2.0)\n",
            "Requirement already satisfied: numpy>=1.22 in /usr/local/lib/python3.10/dist-packages (from jax) (1.25.2)\n",
            "Requirement already satisfied: opt-einsum in /usr/local/lib/python3.10/dist-packages (from jax) (3.3.0)\n",
            "Requirement already satisfied: scipy>=1.9 in /usr/local/lib/python3.10/dist-packages (from jax) (1.11.4)\n",
            "Installing collected packages: jaxlib, jax\n",
            "  Attempting uninstall: jaxlib\n",
            "    Found existing installation: jaxlib 0.4.26+cuda12.cudnn89\n",
            "    Uninstalling jaxlib-0.4.26+cuda12.cudnn89:\n",
            "      Successfully uninstalled jaxlib-0.4.26+cuda12.cudnn89\n",
            "Successfully installed jax-0.4.30 jaxlib-0.4.30\n"
          ]
        },
        {
          "output_type": "display_data",
          "data": {
            "application/vnd.colab-display-data+json": {
              "pip_warning": {
                "packages": [
                  "jax",
                  "jaxlib"
                ]
              },
              "id": "bfa21947ad38405198d243972df0694d"
            }
          },
          "metadata": {}
        }
      ]
    },
    {
      "cell_type": "code",
      "execution_count": 1,
      "metadata": {
        "id": "9krBvEak2AyZ"
      },
      "outputs": [],
      "source": [
        "import jax"
      ]
    },
    {
      "cell_type": "code",
      "source": [
        "def f(x, y): return 2 * x + y + 2"
      ],
      "metadata": {
        "id": "zpWWNQub4ae0"
      },
      "execution_count": 2,
      "outputs": []
    },
    {
      "cell_type": "code",
      "source": [
        "x, y = 3, 4"
      ],
      "metadata": {
        "id": "p5zDjb0s4dos"
      },
      "execution_count": 3,
      "outputs": []
    },
    {
      "cell_type": "code",
      "source": [
        "lowered = jax.jit(f).lower(x, y)"
      ],
      "metadata": {
        "id": "kbArIsj54fHj"
      },
      "execution_count": 4,
      "outputs": []
    },
    {
      "cell_type": "code",
      "source": [
        "print(lowered.as_text())"
      ],
      "metadata": {
        "colab": {
          "base_uri": "https://localhost:8080/"
        },
        "id": "0Tky7PvB4gtJ",
        "outputId": "6065477c-8929-4263-edbc-15da51f8ab50"
      },
      "execution_count": 5,
      "outputs": [
        {
          "output_type": "stream",
          "name": "stdout",
          "text": [
            "module @jit_f attributes {mhlo.num_partitions = 1 : i32, mhlo.num_replicas = 1 : i32} {\n",
            "  func.func public @main(%arg0: tensor<i32> {mhlo.layout_mode = \"default\"}, %arg1: tensor<i32> {mhlo.layout_mode = \"default\"}) -> (tensor<i32> {jax.result_info = \"\", mhlo.layout_mode = \"default\"}) {\n",
            "    %c = stablehlo.constant dense<2> : tensor<i32>\n",
            "    %0 = stablehlo.multiply %c, %arg0 : tensor<i32>\n",
            "    %1 = stablehlo.add %0, %arg1 : tensor<i32>\n",
            "    %c_0 = stablehlo.constant dense<2> : tensor<i32>\n",
            "    %2 = stablehlo.add %1, %c_0 : tensor<i32>\n",
            "    return %2 : tensor<i32>\n",
            "  }\n",
            "}\n",
            "\n"
          ]
        }
      ]
    },
    {
      "cell_type": "code",
      "source": [
        "import re\n",
        "import numpy as np\n",
        "import jax\n",
        "from jax import export"
      ],
      "metadata": {
        "id": "1C7aMQopAh6-"
      },
      "execution_count": 6,
      "outputs": []
    },
    {
      "cell_type": "code",
      "source": [
        "def f(x): return 2 * x * x"
      ],
      "metadata": {
        "id": "CSJPCu3MBPiv"
      },
      "execution_count": 7,
      "outputs": []
    },
    {
      "cell_type": "code",
      "source": [
        "exp = export.export(jax.jit(f))(\n",
        "   jax.ShapeDtypeStruct((), np.float32))\n"
      ],
      "metadata": {
        "id": "0vlJVvTfBlJN"
      },
      "execution_count": 8,
      "outputs": []
    },
    {
      "cell_type": "code",
      "source": [
        "exp.mlir_module()"
      ],
      "metadata": {
        "colab": {
          "base_uri": "https://localhost:8080/",
          "height": 120
        },
        "id": "BPQyumYLBnnD",
        "outputId": "a564de2a-e6e9-4d51-b8af-395be986a4ed"
      },
      "execution_count": 9,
      "outputs": [
        {
          "output_type": "execute_result",
          "data": {
            "text/plain": [
              "'#loc1 = loc(\"x\")\\nmodule @jit_f attributes {jax.uses_shape_polymorphism = false, mhlo.num_partitions = 1 : i32, mhlo.num_replicas = 1 : i32} {\\n  func.func public @main(%arg0: tensor<f32> {mhlo.layout_mode = \"default\"} loc(\"x\")) -> (tensor<f32> {jax.result_info = \"\", mhlo.layout_mode = \"default\"}) {\\n    %cst = stablehlo.constant dense<2.000000e+00> : tensor<f32> loc(#loc)\\n    %0 = stablehlo.multiply %cst, %arg0 : tensor<f32> loc(#loc31)\\n    %1 = stablehlo.multiply %0, %arg0 : tensor<f32> loc(#loc31)\\n    return %1 : tensor<f32> loc(#loc)\\n  } loc(#loc)\\n} loc(#loc)\\n#loc = loc(unknown)\\n#loc2 = loc(\"<ipython-input-7-018d23f7472d>\":1:0)\\n#loc3 = loc(\"<ipython-input-8-c708c2053347>\":1:0)\\n#loc4 = loc(\"/usr/local/lib/python3.10/dist-packages/IPython/core/interactiveshell.py\":3553:0)\\n#loc5 = loc(\"/usr/local/lib/python3.10/dist-packages/IPython/core/interactiveshell.py\":3473:0)\\n#loc6 = loc(\"/usr/local/lib/python3.10/dist-packages/IPython/core/interactiveshell.py\":3257:0)\\n#loc7 = loc(\"/usr/local/lib/python3.10/dist-packages/IPython/core/async_helpers.py\":78:0)\\n#loc8 = loc(\"/usr/local/lib/python3.10/dist-packages/IPython/core/interactiveshell.py\":3030:0)\\n#loc9 = loc(\"/usr/local/lib/python3.10/dist-packages/IPython/core/interactiveshell.py\":2975:0)\\n#loc10 = loc(\"/usr/local/lib/python3.10/dist-packages/ipykernel/zmqshell.py\":539:0)\\n#loc11 = loc(\"/usr/local/lib/python3.10/dist-packages/ipykernel/ipkernel.py\":302:0)\\n#loc12 = loc(\"f\"(#loc2))\\n#loc13 = loc(\"<cell line: 1>\"(#loc3))\\n#loc14 = loc(\"run_code\"(#loc4))\\n#loc15 = loc(\"run_ast_nodes\"(#loc5))\\n#loc16 = loc(\"run_cell_async\"(#loc6))\\n#loc17 = loc(\"_pseudo_sync_runner\"(#loc7))\\n#loc18 = loc(\"_run_cell\"(#loc8))\\n#loc19 = loc(\"run_cell\"(#loc9))\\n#loc20 = loc(\"run_cell\"(#loc10))\\n#loc21 = loc(\"do_execute\"(#loc11))\\n#loc22 = loc(callsite(#loc20 at #loc21))\\n#loc23 = loc(callsite(#loc19 at #loc22))\\n#loc24 = loc(callsite(#loc18 at #loc23))\\n#loc25 = loc(callsite(#loc17 at #loc24))\\n#loc26 = loc(callsite(#loc16 at #loc25))\\n#loc27 = loc(callsite(#loc15 at #loc26))\\n#loc28 = loc(callsite(#loc14 at #loc27))\\n#loc29 = loc(callsite(#loc13 at #loc28))\\n#loc30 = loc(callsite(#loc12 at #loc29))\\n#loc31 = loc(\"jit(f)/jit(main)/mul\"(#loc30))\\n'"
            ],
            "application/vnd.google.colaboratory.intrinsic+json": {
              "type": "string"
            }
          },
          "metadata": {},
          "execution_count": 9
        }
      ]
    },
    {
      "cell_type": "code",
      "source": [],
      "metadata": {
        "id": "js_XN0V82Tdd"
      },
      "execution_count": 9,
      "outputs": []
    }
  ]
}