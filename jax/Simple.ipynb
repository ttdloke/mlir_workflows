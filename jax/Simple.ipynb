{
  "cells": [
    {
      "cell_type": "markdown",
      "metadata": {
        "id": "pna7KmKAgMGB"
      },
      "source": [
        "Notebook for generating StableHLO mlir file for simple function. Meant to be run in a colab environment and jax needs to be reinstalled to have the latest version"
      ]
    },
    {
      "cell_type": "code",
      "execution_count": 1,
      "metadata": {
        "colab": {
          "base_uri": "https://localhost:8080/"
        },
        "id": "0IzqtWo3EIUf",
        "outputId": "9639d538-649a-4880-a418-316b790ebaca"
      },
      "outputs": [
        {
          "name": "stdout",
          "output_type": "stream",
          "text": [
            "Found existing installation: jax 0.4.26\n",
            "Uninstalling jax-0.4.26:\n",
            "  Would remove:\n",
            "    /usr/local/lib/python3.10/dist-packages/jax-0.4.26.dist-info/*\n",
            "    /usr/local/lib/python3.10/dist-packages/jax/*\n",
            "Proceed (Y/n)? Y\n",
            "  Successfully uninstalled jax-0.4.26\n"
          ]
        }
      ],
      "source": [
        "!pip uninstall jax"
      ]
    },
    {
      "cell_type": "code",
      "execution_count": 2,
      "metadata": {
        "colab": {
          "base_uri": "https://localhost:8080/"
        },
        "id": "8qgj9yUq2few",
        "outputId": "b652af0f-d1c2-4a89-fd82-c35cde2602df"
      },
      "outputs": [
        {
          "name": "stdout",
          "output_type": "stream",
          "text": [
            "Collecting jax\n",
            "  Downloading jax-0.4.30-py3-none-any.whl (2.0 MB)\n",
            "\u001b[2K     \u001b[90m━━━━━━━━━━━━━━━━━━━━━━━━━━━━━━━━━━━━━━━━\u001b[0m \u001b[32m2.0/2.0 MB\u001b[0m \u001b[31m21.6 MB/s\u001b[0m eta \u001b[36m0:00:00\u001b[0m\n",
            "\u001b[?25hCollecting jaxlib<=0.4.30,>=0.4.27 (from jax)\n",
            "  Downloading jaxlib-0.4.30-cp310-cp310-manylinux2014_x86_64.whl (79.6 MB)\n",
            "\u001b[2K     \u001b[90m━━━━━━━━━━━━━━━━━━━━━━━━━━━━━━━━━━━━━━━━\u001b[0m \u001b[32m79.6/79.6 MB\u001b[0m \u001b[31m7.7 MB/s\u001b[0m eta \u001b[36m0:00:00\u001b[0m\n",
            "\u001b[?25hRequirement already satisfied: ml-dtypes>=0.2.0 in /usr/local/lib/python3.10/dist-packages (from jax) (0.2.0)\n",
            "Requirement already satisfied: numpy>=1.22 in /usr/local/lib/python3.10/dist-packages (from jax) (1.25.2)\n",
            "Requirement already satisfied: opt-einsum in /usr/local/lib/python3.10/dist-packages (from jax) (3.3.0)\n",
            "Requirement already satisfied: scipy>=1.9 in /usr/local/lib/python3.10/dist-packages (from jax) (1.11.4)\n",
            "Installing collected packages: jaxlib, jax\n",
            "  Attempting uninstall: jaxlib\n",
            "    Found existing installation: jaxlib 0.4.26+cuda12.cudnn89\n",
            "    Uninstalling jaxlib-0.4.26+cuda12.cudnn89:\n",
            "      Successfully uninstalled jaxlib-0.4.26+cuda12.cudnn89\n",
            "Successfully installed jax-0.4.30 jaxlib-0.4.30\n"
          ]
        }
      ],
      "source": [
        "!pip install jax"
      ]
    },
    {
      "cell_type": "code",
      "execution_count": 3,
      "metadata": {
        "id": "9krBvEak2AyZ"
      },
      "outputs": [],
      "source": [
        "import jax"
      ]
    },
    {
      "cell_type": "code",
      "execution_count": 4,
      "metadata": {
        "id": "zpWWNQub4ae0"
      },
      "outputs": [],
      "source": [
        "def f(x, y): return 2 * x + y + 2"
      ]
    },
    {
      "cell_type": "code",
      "execution_count": 5,
      "metadata": {
        "id": "p5zDjb0s4dos"
      },
      "outputs": [],
      "source": [
        "x, y = 3, 4"
      ]
    },
    {
      "cell_type": "markdown",
      "metadata": {
        "id": "xy4e9KQJhGAy"
      },
      "source": [
        "JAX has functionality for lowering functions and then running the compiled code. If you want to use the lowered function output later however, use the export module because that is guaranteed to have a serialized version (https://jax.readthedocs.io/en/latest/aot.html, https://jax.readthedocs.io/en/latest/export/export.html#support-for-reverse-mode-ad). Examples of both below"
      ]
    },
    {
      "cell_type": "code",
      "execution_count": 6,
      "metadata": {
        "id": "kbArIsj54fHj"
      },
      "outputs": [],
      "source": [
        "lowered = jax.jit(f).lower(x, y)"
      ]
    },
    {
      "cell_type": "code",
      "execution_count": 7,
      "metadata": {
        "colab": {
          "base_uri": "https://localhost:8080/"
        },
        "id": "0Tky7PvB4gtJ",
        "outputId": "4314fd43-b572-4229-8c17-99108b838ace"
      },
      "outputs": [
        {
          "name": "stdout",
          "output_type": "stream",
          "text": [
            "module @jit_f attributes {mhlo.num_partitions = 1 : i32, mhlo.num_replicas = 1 : i32} {\n",
            "  func.func public @main(%arg0: tensor<i32> {mhlo.layout_mode = \"default\"}, %arg1: tensor<i32> {mhlo.layout_mode = \"default\"}) -> (tensor<i32> {jax.result_info = \"\", mhlo.layout_mode = \"default\"}) {\n",
            "    %c = stablehlo.constant dense<2> : tensor<i32>\n",
            "    %0 = stablehlo.multiply %c, %arg0 : tensor<i32>\n",
            "    %1 = stablehlo.add %0, %arg1 : tensor<i32>\n",
            "    %c_0 = stablehlo.constant dense<2> : tensor<i32>\n",
            "    %2 = stablehlo.add %1, %c_0 : tensor<i32>\n",
            "    return %2 : tensor<i32>\n",
            "  }\n",
            "}\n",
            "\n"
          ]
        }
      ],
      "source": [
        "print(lowered.as_text())"
      ]
    },
    {
      "cell_type": "code",
      "execution_count": 8,
      "metadata": {
        "id": "1C7aMQopAh6-"
      },
      "outputs": [],
      "source": [
        "import re\n",
        "import numpy as np\n",
        "import jax\n",
        "from jax import export"
      ]
    },
    {
      "cell_type": "code",
      "execution_count": 9,
      "metadata": {
        "id": "CSJPCu3MBPiv"
      },
      "outputs": [],
      "source": [
        "def f(x): return 2 * x * x"
      ]
    },
    {
      "cell_type": "code",
      "execution_count": 10,
      "metadata": {
        "id": "0vlJVvTfBlJN"
      },
      "outputs": [],
      "source": [
        "exp = export.export(jax.jit(f))(\n",
        "   jax.ShapeDtypeStruct((), np.float32))\n"
      ]
    },
    {
      "cell_type": "code",
      "execution_count": 11,
      "metadata": {
        "colab": {
          "base_uri": "https://localhost:8080/",
          "height": 120
        },
        "id": "BPQyumYLBnnD",
        "outputId": "0eeae396-9f2f-47bf-acac-7ca59c098853"
      },
      "outputs": [
        {
          "data": {
            "application/vnd.google.colaboratory.intrinsic+json": {
              "type": "string"
            },
            "text/plain": [
              "'#loc1 = loc(\"x\")\\nmodule @jit_f attributes {jax.uses_shape_polymorphism = false, mhlo.num_partitions = 1 : i32, mhlo.num_replicas = 1 : i32} {\\n  func.func public @main(%arg0: tensor<f32> {mhlo.layout_mode = \"default\"} loc(\"x\")) -> (tensor<f32> {jax.result_info = \"\", mhlo.layout_mode = \"default\"}) {\\n    %cst = stablehlo.constant dense<2.000000e+00> : tensor<f32> loc(#loc)\\n    %0 = stablehlo.multiply %cst, %arg0 : tensor<f32> loc(#loc31)\\n    %1 = stablehlo.multiply %0, %arg0 : tensor<f32> loc(#loc31)\\n    return %1 : tensor<f32> loc(#loc)\\n  } loc(#loc)\\n} loc(#loc)\\n#loc = loc(unknown)\\n#loc2 = loc(\"<ipython-input-9-018d23f7472d>\":1:0)\\n#loc3 = loc(\"<ipython-input-10-c708c2053347>\":1:0)\\n#loc4 = loc(\"/usr/local/lib/python3.10/dist-packages/IPython/core/interactiveshell.py\":3553:0)\\n#loc5 = loc(\"/usr/local/lib/python3.10/dist-packages/IPython/core/interactiveshell.py\":3473:0)\\n#loc6 = loc(\"/usr/local/lib/python3.10/dist-packages/IPython/core/interactiveshell.py\":3257:0)\\n#loc7 = loc(\"/usr/local/lib/python3.10/dist-packages/IPython/core/async_helpers.py\":78:0)\\n#loc8 = loc(\"/usr/local/lib/python3.10/dist-packages/IPython/core/interactiveshell.py\":3030:0)\\n#loc9 = loc(\"/usr/local/lib/python3.10/dist-packages/IPython/core/interactiveshell.py\":2975:0)\\n#loc10 = loc(\"/usr/local/lib/python3.10/dist-packages/ipykernel/zmqshell.py\":539:0)\\n#loc11 = loc(\"/usr/local/lib/python3.10/dist-packages/ipykernel/ipkernel.py\":302:0)\\n#loc12 = loc(\"f\"(#loc2))\\n#loc13 = loc(\"<cell line: 1>\"(#loc3))\\n#loc14 = loc(\"run_code\"(#loc4))\\n#loc15 = loc(\"run_ast_nodes\"(#loc5))\\n#loc16 = loc(\"run_cell_async\"(#loc6))\\n#loc17 = loc(\"_pseudo_sync_runner\"(#loc7))\\n#loc18 = loc(\"_run_cell\"(#loc8))\\n#loc19 = loc(\"run_cell\"(#loc9))\\n#loc20 = loc(\"run_cell\"(#loc10))\\n#loc21 = loc(\"do_execute\"(#loc11))\\n#loc22 = loc(callsite(#loc20 at #loc21))\\n#loc23 = loc(callsite(#loc19 at #loc22))\\n#loc24 = loc(callsite(#loc18 at #loc23))\\n#loc25 = loc(callsite(#loc17 at #loc24))\\n#loc26 = loc(callsite(#loc16 at #loc25))\\n#loc27 = loc(callsite(#loc15 at #loc26))\\n#loc28 = loc(callsite(#loc14 at #loc27))\\n#loc29 = loc(callsite(#loc13 at #loc28))\\n#loc30 = loc(callsite(#loc12 at #loc29))\\n#loc31 = loc(\"jit(f)/jit(main)/mul\"(#loc30))\\n'"
            ]
          },
          "execution_count": 11,
          "metadata": {},
          "output_type": "execute_result"
        }
      ],
      "source": [
        "exp.mlir_module()"
      ]
    },
    {
      "cell_type": "code",
      "execution_count": 9,
      "metadata": {
        "id": "js_XN0V82Tdd"
      },
      "outputs": [],
      "source": []
    }
  ],
  "metadata": {
    "colab": {
      "provenance": []
    },
    "kernelspec": {
      "display_name": "Python 3",
      "name": "python3"
    },
    "language_info": {
      "name": "python"
    }
  },
  "nbformat": 4,
  "nbformat_minor": 0
}
